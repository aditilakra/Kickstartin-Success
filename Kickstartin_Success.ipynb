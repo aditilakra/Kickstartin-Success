{
 "cells": [
  {
   "cell_type": "markdown",
   "metadata": {
    "collapsed": true
   },
   "source": [
    "# Kickstartin' Success\n",
    "\n",
    "In this study, we will explore [data](https://webrobots.io/kickstarter-datasets/) on Kickstarter projects and build a model to predict campaign success or failure as well as explore the drivingfactors.\n",
    "\n",
    "Content:\n",
    "* [Introduction](#intro)\n",
    "* [Initialization](#init)\n",
    "* [Predictive Model](#model)\n",
    "* [Evaluation](#eval)\n",
    "* [Implementation](#imple)\n",
    "* [Implications](#impli)\n",
    "* [Future Work](#fw)\n",
    "\n",
    "<h4><center>...</center></h4>\n",
    "\n",
    "<a id='intro'><h2>Introduction</h2></a>\n",
    "\n",
    "Nowadays if you have a great idea but not the means, crowdsourcing on Kickstarter sounds compelling. However, only 44% percent of campaigns on Kickstarter reaches their funding goal. Before you jump into Kickstarter, how do you know if it's the right platform for you? What makes a successful Kickstarter campaign? What is a realistic funding goal? By leveraging the tools and power of data analytics, we seek to answer questions and build a model to predict the success (or failure) of a potential campaign.\n",
    "\n",
    "<h2><a id='intro'>Initialization</a></h2>"
   ]
  },
  {
   "cell_type": "code",
   "execution_count": 141,
   "metadata": {},
   "outputs": [],
   "source": [
    "import pandas as pd\n",
    "import numpy as np\n",
    "import datetime as dt\n",
    "import matplotlib.pyplot as plt\n",
    "import os, json\n",
    "from scipy.stats import skew\n",
    "from scipy.stats import ttest_ind, f_oneway, lognorm, levy, skew, chisquare\n",
    "from sklearn.preprocessing import normalize, scale\n",
    "\n",
    "%matplotlib inline\n",
    "\n",
    "import warnings\n",
    "warnings.filterwarnings('ignore')"
   ]
  },
  {
   "cell_type": "markdown",
   "metadata": {},
   "source": [
    "A large dataset provided by [Web Robots](https://webrobots.io/kickstarter-datasets/) was used to train the model. The dataset contains kickstarter campaigns collected monthly through webscrapping. Each dataset is composed of all kickstarter campaigns up to a set maximum for each category. We utilized the data collected up until January 2018."
   ]
  },
  {
   "cell_type": "code",
   "execution_count": 125,
   "metadata": {},
   "outputs": [],
   "source": [
    "%%capture\n",
    "# Download dataset\n",
    "# Check if the dataset is present on local disk and load it\n",
    "if os.path.exists('Kickstarter_2018-01.csv'):\n",
    "    data = pd.read_csv('Kickstarter_2018-01.csv', error_bad_lines=False)"
   ]
  },
  {
   "cell_type": "code",
   "execution_count": 126,
   "metadata": {},
   "outputs": [
    {
     "name": "stdout",
     "output_type": "stream",
     "text": [
      "Number of rows: 194475\n",
      "Number of columns:  86\n"
     ]
    }
   ],
   "source": [
    "# Print the size of the dataset\n",
    "print (\"Number of rows:\", data.shape[0])\n",
    "print (\"Number of columns: \", data.shape[1])"
   ]
  },
  {
   "cell_type": "markdown",
   "metadata": {},
   "source": [
    "<h2><a id='model'>Predictive Model</a></h2>\n",
    "\n",
    "**Summary**\n",
    "\n",
    "The initial dataset contained 194475 transactions with 86 time-series, categorical and numerical variables. In order to build the final model, the process is brokened down into (1) [Data cleaning](#s1), (2) [Feature engineering](#s2) (3) [Exploratory data analysis](#s3) and (4) [Building the model](#s4).\n",
    "\n",
    "**Note:** The code to make predictions is provided in a function as success_predictor.py\n",
    "\n",
    "<h3><a id='s1'>Data Cleaning</a></h3>"
   ]
  },
  {
   "cell_type": "code",
   "execution_count": 129,
   "metadata": {
    "collapsed": true
   },
   "outputs": [],
   "source": [
    "# define a function to clean a loaded dataset\n",
    "\n",
    "def clean(mydata):\n",
    "    \n",
    "    \"\"\"\n",
    "    This function cleans the input dataframe mydata:\n",
    "    \n",
    "    input:\n",
    "        mydata: pandas.dataframe\n",
    "    output: \n",
    "        pandas.dataframe\n",
    "\n",
    "    \"\"\"\n",
    "    \n",
    "    data = mydata.copy()\n",
    "    \n",
    "    return data"
   ]
  },
  {
   "cell_type": "markdown",
   "metadata": {},
   "source": [
    "**Let's clean the data... *scrub* *scrub* *scrub* **"
   ]
  },
  {
   "cell_type": "code",
   "execution_count": 130,
   "metadata": {},
   "outputs": [],
   "source": [
    "data = clean(data)"
   ]
  },
  {
   "cell_type": "markdown",
   "metadata": {},
   "source": [
    "<h3><a id='s3'>Feature Engineering</a></h3>"
   ]
  },
  {
   "cell_type": "code",
   "execution_count": 131,
   "metadata": {},
   "outputs": [],
   "source": [
    "def engineer_features(mydata):\n",
    "    \n",
    "    data = mydata.copy()\n",
    "\n",
    "    # create success variable (PREDICT)\n",
    "    successful = data['state'] == \"successful\"\n",
    "    failed = data['state'] == \"failed\"\n",
    "\n",
    "    data = data.loc[failed | successful]\n",
    "\n",
    "    data['success'] = data['state'].astype('category')\n",
    "    data['success'] = pd.Categorical.from_array(data.success).codes\n",
    "    \n",
    "    return data"
   ]
  },
  {
   "cell_type": "markdown",
   "metadata": {},
   "source": [
    "**Let's engineer new features!**"
   ]
  },
  {
   "cell_type": "code",
   "execution_count": 132,
   "metadata": {},
   "outputs": [
    {
     "name": "stdout",
     "output_type": "stream",
     "text": [
      "Data dim before feature engineering: (194475, 86)\n",
      "Data dim after feature engineering: (156668, 87)\n"
     ]
    }
   ],
   "source": [
    "print(\"Data dim before feature engineering:\", data.shape)\n",
    "data = engineer_features(data)\n",
    "print(\"Data dim after feature engineering:\", data.shape)"
   ]
  },
  {
   "cell_type": "markdown",
   "metadata": {},
   "source": [
    "<h3><a id='s1'>Exploratory Data Analysis</a></h3>\n",
    "<br>\n",
    "<center>Unsupervised learning</center>\n",
    "\n",
    "In order to narrow our exploration. We studied the correlation and utilized clustering to investigate latent drivers that contribute to the success of a campaign.\n",
    "\n",
    "<h4><center>...</center></h4>\n",
    "\n",
    "**Correlation matrix** <br>\n",
    "Lorem ipsum dolor sit amet, consectetur adipiscing elit. Nullam ultrices nisl odio, non fringilla lorem lacinia et. Cras in nibh diam. Donec bibendum eros nulla, et aliquam nunc ultricies in. Nulla ut lacinia justo. Donec sit amet efficitur nisl, sed porta odio. Donec et blandit augue."
   ]
  },
  {
   "cell_type": "code",
   "execution_count": null,
   "metadata": {
    "collapsed": true
   },
   "outputs": [],
   "source": []
  },
  {
   "cell_type": "markdown",
   "metadata": {},
   "source": [
    "**K-Means clustering** <br>\n",
    "By studying cluster centers discover ..."
   ]
  },
  {
   "cell_type": "code",
   "execution_count": null,
   "metadata": {
    "collapsed": true
   },
   "outputs": [],
   "source": []
  },
  {
   "cell_type": "markdown",
   "metadata": {},
   "source": [
    "<center>Understading the marketplace</center>\n",
    "\n",
    "Throughout exploratory analysis, key understandings of Kickstarter marketplace is built.\n",
    "\n",
    "<h4><center>...</center></h4>\n",
    "\n",
    "**Kickstarter is predominantly domestic** <br>\n",
    "Although the platform boast its global reach, 68.5% of Kickstarter's campaign creators are United States-based."
   ]
  },
  {
   "cell_type": "code",
   "execution_count": null,
   "metadata": {
    "collapsed": true
   },
   "outputs": [],
   "source": []
  },
  {
   "cell_type": "markdown",
   "metadata": {},
   "source": [
    "**Kickstarter is home to tech-enthusiast**<br>"
   ]
  },
  {
   "cell_type": "code",
   "execution_count": null,
   "metadata": {
    "collapsed": true
   },
   "outputs": [],
   "source": [
    "#distribution of campaigns by category\n",
    "\n",
    "#campaign success by category"
   ]
  },
  {
   "cell_type": "markdown",
   "metadata": {},
   "source": [
    "**Creation of campaigns varies by time** <br>\n",
    "The timeline of a Kickstarter campaign where creators"
   ]
  },
  {
   "cell_type": "code",
   "execution_count": null,
   "metadata": {
    "collapsed": true
   },
   "outputs": [],
   "source": []
  },
  {
   "cell_type": "markdown",
   "metadata": {},
   "source": [
    "<center>Finding insights that matter</center>\n",
    "    \n",
    "After a establishing understanding of the Kickstarter nature of campaign creators, drivers that promotes success are  determined. Potential features are studied and a t-test is performed to determine whether the feature can be used to significantly distinguish successful campaigns from failed ones.\n",
    "\n",
    "<h4><center>...</center></h4>\n",
    "\n",
    "**Setting the right goal is as important as you'd think** <br>\n",
    "The median goal for a successful campaign from the dataset is USD 5,000 while the medial goal for failed campaigns is nearly USD 17,000. We also found that 38% of failed campaigns had a goal of over USD 50,000."
   ]
  },
  {
   "cell_type": "code",
   "execution_count": 142,
   "metadata": {},
   "outputs": [
    {
     "data": {
      "text/plain": [
       "<matplotlib.axes._subplots.AxesSubplot at 0x18e8aae5390>"
      ]
     },
     "execution_count": 142,
     "metadata": {},
     "output_type": "execute_result"
    },
    {
     "data": {
      "image/png": "[encoded data removed]",
      "text/plain": [
       "<matplotlib.figure.Figure at 0x18e8aae2c88>"
      ]
     },
     "metadata": {},
     "output_type": "display_data"
    }
   ],
   "source": [
    "data.boxplot('goal',by='success')"
   ]
  },
  {
   "cell_type": "markdown",
   "metadata": {},
   "source": [
    "**Staff picks have significant impact on success**<br>\n",
    "Kickstarter's staff picks are given high-value front page"
   ]
  },
  {
   "cell_type": "code",
   "execution_count": null,
   "metadata": {
    "collapsed": true
   },
   "outputs": [],
   "source": []
  },
  {
   "cell_type": "markdown",
   "metadata": {},
   "source": [
    "**Successful campaigns invest more time in creating the campaign.** <br>\n",
    "The median number of days spend between creation and launch for successful campaign is"
   ]
  },
  {
   "cell_type": "code",
   "execution_count": null,
   "metadata": {
    "collapsed": true
   },
   "outputs": [],
   "source": []
  },
  {
   "cell_type": "markdown",
   "metadata": {},
   "source": [
    "<h3><a id='s4'>Building the Model</a></h3>\n",
    "\n",
    "In the search for the best model, four algorithms were investigated:\n",
    "\n",
    "* Random Forest\n",
    "* Adaptive Boosting\n",
    "* Gradient Boosting\n",
    "* Logistic Regression\n",
    "\n",
    "These classification models were chosen due to their predictive power in binary classification problems. Adaptive and Gradient Boosting are both boosting methods which choose to train one strong learner (the overfitting decision tree) on multiple weak learners (underfitting learners) in sequence.\n",
    "\n",
    "To avoid overfitting due to our limited dataset, functions for cross-validation and parameter optimization were defined such that they are applicable on either classification or regression algorithm\n",
    "\n",
    "<h4><center>...</center></h4>\n",
    "\n",
    "**K Fold Cross Validation:**\n",
    "\n",
    "This function (**modelfit**) train the model given as 'alg' by performing cross-validation. It works on both regression and classification\n",
    "\n",
    "* **alg**: sklearn model\n",
    "* **dtrain**: pandas.DataFrame, training set\n",
    "* **predictors**: list, labels of features (column names) to be used in the model training\n",
    "* **target**: str, target variable\n",
    "* **scoring_method**: str, method to be used by the cross-validation to valuate the model\n",
    "* **performCV**: bool, perform Cv or not\n",
    "* **printFeatureImportance**: bool, plot histogram of features importance or not\n",
    "* **cv_folds**: int, degree of cross-validation"
   ]
  },
  {
   "cell_type": "code",
   "execution_count": 133,
   "metadata": {},
   "outputs": [],
   "source": [
    "%%capture\n",
    "# import scikit learn libraries\n",
    "from sklearn import cross_validation, metrics   #model optimization and valuation tools\n",
    "from sklearn.grid_search import GridSearchCV   #Perforing grid search\n",
    "\n",
    "# define a function that help to train models and perform cv\n",
    "def modelfit(alg,dtrain,predictors,target,scoring_method,performCV=True,printFeatureImportance=True,cv_folds=5):\n",
    "\n",
    "    # train the algorithm on data\n",
    "    alg.fit(dtrain[predictors],dtrain[target])\n",
    "    \n",
    "    #predict on train set:\n",
    "    dtrain_predictions = alg.predict(dtrain[predictors])\n",
    "    if scoring_method == 'roc_auc':\n",
    "        dtrain_predprob = alg.predict_proba(dtrain[predictors])[:,1]\n",
    "    \n",
    "    #perform cross-validation\n",
    "    if performCV:\n",
    "        cv_score = cross_validation.cross_val_score(alg,dtrain[predictors],dtrain[target],cv=cv_folds,scoring=scoring_method)\n",
    "        \n",
    "        #print model report\n",
    "        print (\"\\nModel report:\")\n",
    "        if scoring_method == 'roc_auc':\n",
    "            print (\"Accuracy: %.4f\" % metrics.accuracy_score(dtrain[target].values,dtrain_predictions))\n",
    "            print (\"AUC Score (Train): %.4f\" % metrics.roc_auc_score(dtrain[target], dtrain_predprob))\n",
    "        if (scoring_method == 'mean_squared_error'):\n",
    "            print (\"Accuracy: %.4f\" % metrics.mean_squared_error(dtrain[target].values,dtrain_predictions))\n",
    "    if performCV:\n",
    "        print (\"CV Score: Mean : %.5g | Std : %.5g | Min : %.5g | Max : %.5g \\n\" % (np.mean(cv_score),np.std(cv_score),np.min(cv_score),np.max(cv_score)))\n",
    "    \n",
    "    #print feature importance\n",
    "    if printFeatureImportance:\n",
    "        if dir(alg)[0] == '_Booster': #runs only if alg is xgboost\n",
    "            feat_imp = pd.Series(alg.booster().get_fscore()).sort_values(ascending=False)\n",
    "        else:\n",
    "            feat_imp = pd.Series(alg.feature_importances_,predictors).sort_values(ascending=False)\n",
    "        feat_imp.plot(kind='bar',title='Feature Importances')\n",
    "        plt.ylabel('Feature Importe Score')\n",
    "        plt.show()"
   ]
  },
  {
   "cell_type": "markdown",
   "metadata": {},
   "source": [
    "**Optimize Number of Desicion Trees:**\n",
    "\n",
    "This function, (**optimize_num_trees**), is used to tune paremeters of a predictive algorithm\n",
    "\n",
    "* **alg**: sklearn model\n",
    "* **param_test**: dict, parameters to be tuned\n",
    "* **scoring_method**: str, method to be used by the cross-validation to valuate the model\n",
    "* **train**: pandas.DataFrame, training data\n",
    "* **predictors**: list, labels to be used in the model training process. They should be in the column names of dtrain\n",
    "* **target**: str, target variable"
   ]
  },
  {
   "cell_type": "code",
   "execution_count": 134,
   "metadata": {
    "collapsed": true
   },
   "outputs": [],
   "source": [
    "# optimize n_estimator through grid search\n",
    "def optimize_num_trees(alg,param_test,scoring_method,train,predictors,target):\n",
    "    gsearch = GridSearchCV(estimator=alg, param_grid = param_test, scoring=scoring_method,n_jobs=2,iid=False,cv=5)\n",
    "    gsearch.fit(train[predictors],train[target])\n",
    "    \n",
    "    return gsearch\n",
    "\n",
    "# plot optimization results\n",
    "def plot_opt_results(alg):\n",
    "    cv_results = []\n",
    "    for i in range(len(param_test['n_estimators'])):\n",
    "        cv_results.append((alg.grid_scores_[i][1],alg.grid_scores_[i][0]['n_estimators']))\n",
    "    cv_results = pd.DataFrame(cv_results)\n",
    "    plt.plot(cv_results[1],cv_results[0])\n",
    "    plt.xlabel('# trees')\n",
    "    plt.ylabel('score')\n",
    "    plt.title('optimization report')"
   ]
  },
  {
   "cell_type": "markdown",
   "metadata": {},
   "source": [
    "### Classification Model: Gradient Boosting\n",
    "\n",
    "* Optimized number of trees: TBD\n",
    "* Optimized predictors (in order of importance):     \n",
    "    1. Category.id\n",
    "    2. Goal\n",
    "* ROC-AUC of test: TBD"
   ]
  },
  {
   "cell_type": "code",
   "execution_count": 135,
   "metadata": {},
   "outputs": [
    {
     "name": "stdout",
     "output_type": "stream",
     "text": [
      "Optimizing the classifier...\n",
      "\n",
      "Search grid results:\n",
      "params (best): 50\n",
      "score (best): 0.8245\n",
      "\n",
      "Model report:\n",
      "Accuracy: 0.7834\n",
      "AUC Score (Train): 0.8716\n",
      "CV Score: Mean : 0.82447 | Std : 0.010685 | Min : 0.80955 | Max : 0.8414 \n",
      "\n"
     ]
    },
    {
     "data": {
      "image/png": "[encoded data removed]",
      "text/plain": [
       "<matplotlib.figure.Figure at 0x18ec3f10400>"
      ]
     },
     "metadata": {},
     "output_type": "display_data"
    },
    {
     "name": "stdout",
     "output_type": "stream",
     "text": [
      "\n",
      " Processing time: 0:00:05.973657\n"
     ]
    }
   ],
   "source": [
    "## OPTIMIZATION & TRAINING OF THE CLASSIFIER\n",
    "\n",
    "from sklearn.ensemble import GradientBoostingClassifier\n",
    "print (\"Optimizing the classifier...\")\n",
    "\n",
    "train = data.copy() # make a copy of the training set\n",
    "# since the dataset is too big for my system, select a small sample size to carry on training and 5 folds cross validation\n",
    "train = train.loc[np.random.choice(train.index,size=5000,replace=False)]\n",
    "target = 'success' # set target variable - it will be used later in optimization\n",
    "\n",
    "tic = dt.datetime.now() # initiate the timing\n",
    "# for predictors start with candidates identified during the EDA\n",
    "predictors = ['category.id',\n",
    "              'goal']\n",
    "\n",
    "# optimize n_estimator through grid search\n",
    "param_test = {'n_estimators': list(range(30,151,20))} # define range over which number of trees is to be optimized\n",
    "\n",
    "# initiate classification model\n",
    "model_cls = GradientBoostingClassifier(\n",
    "    learning_rate=0.1, # use default\n",
    "    min_samples_split=2,# use default\n",
    "    max_depth=5,\n",
    "    max_features='auto',\n",
    "    subsample=0.8, # try <1 to decrease variance and increase bias\n",
    "    random_state = 10)\n",
    "\n",
    "# get results of the search grid\n",
    "gs_cls = optimize_num_trees(model_cls,param_test,'roc_auc',train,predictors,target)\n",
    "print(\"\\nSearch grid results:\")\n",
    "print(\"params (best):\", gs_cls.best_params_['n_estimators']) \n",
    "print(\"score (best): %.4f\" % gs_cls.best_score_)\n",
    "\n",
    "# cross validate the best model with optimized number of estimators\n",
    "modelfit(gs_cls.best_estimator_,train,predictors,target,'roc_auc')\n",
    "     \n",
    "print (\"\\n Processing time:\", dt.datetime.now()-tic)"
   ]
  },
  {
   "cell_type": "markdown",
   "metadata": {},
   "source": [
    "<h4><center>...</center></h4>\n",
    "\n",
    "We now know the optimum parameter!\n",
    "\n",
    "**Let’s test it by doing prediction on a test dataset**"
   ]
  },
  {
   "cell_type": "code",
   "execution_count": 123,
   "metadata": {},
   "outputs": [
    {
     "name": "stdout",
     "output_type": "stream",
     "text": [
      "ROC AUC: 0.7265 \n"
     ]
    }
   ],
   "source": [
    "# test\n",
    "indices = data.index[~data.index.isin(train.index)]\n",
    "test = data.loc[np.random.choice(indices,size=5000,replace=False)]\n",
    "\n",
    "ypred = gs_cls.best_estimator_.predict(test[predictors])\n",
    "\n",
    "print(\"ROC AUC: %.4f \" % metrics.roc_auc_score(ypred,test.success))"
   ]
  },
  {
   "cell_type": "code",
   "execution_count": null,
   "metadata": {
    "collapsed": true
   },
   "outputs": [],
   "source": []
  }
 ],
 "metadata": {
  "kernelspec": {
   "display_name": "Python 3",
   "language": "python",
   "name": "python3"
  },
  "language_info": {
   "codemirror_mode": {
    "name": "ipython",
    "version": 3
   },
   "file_extension": ".py",
   "mimetype": "text/x-python",
   "name": "python",
   "nbconvert_exporter": "python",
   "pygments_lexer": "ipython3",
   "version": "3.6.2"
  }
 },
 "nbformat": 4,
 "nbformat_minor": 2
}
