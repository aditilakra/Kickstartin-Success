{
 "cells": [
  {
   "cell_type": "code",
   "execution_count": 1,
   "metadata": {
    "collapsed": true
   },
   "outputs": [],
   "source": [
    "import sklearn\n",
    "import pandas as pd\n",
    "import numpy as np"
   ]
  },
  {
   "cell_type": "code",
   "execution_count": 2,
   "metadata": {
    "collapsed": true
   },
   "outputs": [],
   "source": [
    "from sklearn import datasets"
   ]
  },
  {
   "cell_type": "code",
   "execution_count": 5,
   "metadata": {
    "collapsed": true
   },
   "outputs": [],
   "source": [
    "iris=  datasets.load_iris()"
   ]
  },
  {
   "cell_type": "code",
   "execution_count": 18,
   "metadata": {},
   "outputs": [],
   "source": [
    "iris=pd.DataFrame(iris.data)"
   ]
  },
  {
   "cell_type": "code",
   "execution_count": 21,
   "metadata": {},
   "outputs": [],
   "source": [
    "iris.columns=[\"Sepal Length\", \"Sepal Width\", \"Petal Length\",\"Petal Width\"]\n"
   ]
  },
  {
   "cell_type": "code",
   "execution_count": 22,
   "metadata": {},
   "outputs": [
    {
     "data": {
      "text/html": [
       "<div>\n",
       "<style>\n",
       "    .dataframe thead tr:only-child th {\n",
       "        text-align: right;\n",
       "    }\n",
       "\n",
       "    .dataframe thead th {\n",
       "        text-align: left;\n",
       "    }\n",
       "\n",
       "    .dataframe tbody tr th {\n",
       "        vertical-align: top;\n",
       "    }\n",
       "</style>\n",
       "<table border=\"1\" class=\"dataframe\">\n",
       "  <thead>\n",
       "    <tr style=\"text-align: right;\">\n",
       "      <th></th>\n",
       "      <th>Sepal Length</th>\n",
       "      <th>Sepal Width</th>\n",
       "      <th>Petal Length</th>\n",
       "      <th>Petal Width</th>\n",
       "    </tr>\n",
       "  </thead>\n",
       "  <tbody>\n",
       "    <tr>\n",
       "      <th>0</th>\n",
       "      <td>5.1</td>\n",
       "      <td>3.5</td>\n",
       "      <td>1.4</td>\n",
       "      <td>0.2</td>\n",
       "    </tr>\n",
       "    <tr>\n",
       "      <th>1</th>\n",
       "      <td>4.9</td>\n",
       "      <td>3.0</td>\n",
       "      <td>1.4</td>\n",
       "      <td>0.2</td>\n",
       "    </tr>\n",
       "    <tr>\n",
       "      <th>2</th>\n",
       "      <td>4.7</td>\n",
       "      <td>3.2</td>\n",
       "      <td>1.3</td>\n",
       "      <td>0.2</td>\n",
       "    </tr>\n",
       "    <tr>\n",
       "      <th>3</th>\n",
       "      <td>4.6</td>\n",
       "      <td>3.1</td>\n",
       "      <td>1.5</td>\n",
       "      <td>0.2</td>\n",
       "    </tr>\n",
       "    <tr>\n",
       "      <th>4</th>\n",
       "      <td>5.0</td>\n",
       "      <td>3.6</td>\n",
       "      <td>1.4</td>\n",
       "      <td>0.2</td>\n",
       "    </tr>\n",
       "  </tbody>\n",
       "</table>\n",
       "</div>"
      ],
      "text/plain": [
       "   Sepal Length  Sepal Width  Petal Length  Petal Width\n",
       "0           5.1          3.5           1.4          0.2\n",
       "1           4.9          3.0           1.4          0.2\n",
       "2           4.7          3.2           1.3          0.2\n",
       "3           4.6          3.1           1.5          0.2\n",
       "4           5.0          3.6           1.4          0.2"
      ]
     },
     "execution_count": 22,
     "metadata": {},
     "output_type": "execute_result"
    }
   ],
   "source": [
    "iris.head()"
   ]
  },
  {
   "cell_type": "code",
   "execution_count": 25,
   "metadata": {},
   "outputs": [],
   "source": [
    "from sklearn.cluster import KMeans"
   ]
  },
  {
   "cell_type": "code",
   "execution_count": 73,
   "metadata": {},
   "outputs": [],
   "source": [
    "WithinSS=list(range(0,10))\n",
    "ClusterNo=list(range(1,11))"
   ]
  },
  {
   "cell_type": "code",
   "execution_count": 74,
   "metadata": {},
   "outputs": [],
   "source": [
    "\n",
    "for i in range(0,10):\n",
    "    KMObject=KMeans(n_clusters=i+1,init='random',random_state=0).fit(iris)\n",
    "    WithinSS[i]=KMObject.inertia_\n",
    "\n"
   ]
  },
  {
   "cell_type": "code",
   "execution_count": 76,
   "metadata": {},
   "outputs": [
    {
     "name": "stdout",
     "output_type": "stream",
     "text": [
      "[680.82439999999997, 152.36870647733906, 78.940841426146022, 57.317873214285711, 46.561630158730161, 38.930963049671746, 34.721892109500807, 29.881402210510913, 28.094749144130731, 26.571304387641344]\n",
      "[1, 2, 3, 4, 5, 6, 7, 8, 9, 10]\n"
     ]
    }
   ],
   "source": [
    "print(WithinSS)\n",
    "print(ClusterNo)"
   ]
  },
  {
   "cell_type": "code",
   "execution_count": 81,
   "metadata": {},
   "outputs": [],
   "source": [
    "import matplotlib.pyplot as plt\n"
   ]
  },
  {
   "cell_type": "code",
   "execution_count": 84,
   "metadata": {
    "scrolled": true
   },
   "outputs": [
    {
     "data": {
      "image/png": "[encoded data removed]",
      "text/plain": [
       "<matplotlib.figure.Figure at 0x1de78222ac8>"
      ]
     },
     "metadata": {},
     "output_type": "display_data"
    }
   ],
   "source": [
    "plt.plot(ClusterNo,WithinSS)\n",
    "plt.show()"
   ]
  },
  {
   "cell_type": "code",
   "execution_count": 85,
   "metadata": {},
   "outputs": [],
   "source": [
    "KMObject=KMeans(n_clusters=3,init='random',random_state=0).fit(iris)\n"
   ]
  },
  {
   "cell_type": "markdown",
   "metadata": {},
   "source": [
    "## Alternative?"
   ]
  },
  {
   "cell_type": "code",
   "execution_count": 38,
   "metadata": {},
   "outputs": [],
   "source": [
    "from scipy.cluster.vq import vq,kmeans"
   ]
  },
  {
   "cell_type": "code",
   "execution_count": 39,
   "metadata": {
    "collapsed": true
   },
   "outputs": [],
   "source": [
    "IKM=kmeans(iris,3)"
   ]
  },
  {
   "cell_type": "code",
   "execution_count": 44,
   "metadata": {},
   "outputs": [],
   "source": [
    "codebook=IKM[0]"
   ]
  },
  {
   "cell_type": "code",
   "execution_count": 45,
   "metadata": {},
   "outputs": [
    {
     "data": {
      "text/plain": [
       "array([[ 6.85384615,  3.07692308,  5.71538462,  2.05384615],\n",
       "       [ 5.006     ,  3.418     ,  1.464     ,  0.244     ],\n",
       "       [ 5.88360656,  2.74098361,  4.38852459,  1.43442623]])"
      ]
     },
     "execution_count": 45,
     "metadata": {},
     "output_type": "execute_result"
    }
   ],
   "source": [
    "codebook"
   ]
  },
  {
   "cell_type": "code",
   "execution_count": 46,
   "metadata": {
    "collapsed": true
   },
   "outputs": [],
   "source": [
    "IVQ=vq(iris,codebook)"
   ]
  },
  {
   "cell_type": "code",
   "execution_count": 48,
   "metadata": {},
   "outputs": [],
   "source": [
    "code=IVQ[0]"
   ]
  },
  {
   "cell_type": "code",
   "execution_count": 50,
   "metadata": {},
   "outputs": [
    {
     "data": {
      "text/plain": [
       "array([1, 1, 1, 1, 1, 1, 1, 1, 1, 1, 1, 1, 1, 1, 1, 1, 1, 1, 1, 1, 1, 1, 1,\n",
       "       1, 1, 1, 1, 1, 1, 1, 1, 1, 1, 1, 1, 1, 1, 1, 1, 1, 1, 1, 1, 1, 1, 1,\n",
       "       1, 1, 1, 1, 0, 2, 0, 2, 2, 2, 2, 2, 2, 2, 2, 2, 2, 2, 2, 2, 2, 2, 2,\n",
       "       2, 2, 2, 2, 2, 2, 2, 2, 0, 2, 2, 2, 2, 2, 2, 2, 2, 2, 2, 2, 2, 2, 2,\n",
       "       2, 2, 2, 2, 2, 2, 2, 2, 0, 2, 0, 0, 0, 0, 2, 0, 0, 0, 0, 0, 0, 2, 2,\n",
       "       0, 0, 0, 0, 2, 0, 2, 0, 2, 0, 0, 2, 2, 0, 0, 0, 0, 0, 2, 0, 0, 0, 0,\n",
       "       2, 0, 0, 0, 2, 0, 0, 0, 2, 0, 0, 2])"
      ]
     },
     "execution_count": 50,
     "metadata": {},
     "output_type": "execute_result"
    }
   ],
   "source": [
    "code"
   ]
  },
  {
   "cell_type": "code",
   "execution_count": 52,
   "metadata": {
    "collapsed": true
   },
   "outputs": [],
   "source": [
    "dist=IVQ[1]"
   ]
  },
  {
   "cell_type": "code",
   "execution_count": 53,
   "metadata": {
    "scrolled": true
   },
   "outputs": [
    {
     "data": {
      "text/plain": [
       "array([ 0.14694217,  0.43816892,  0.41230086,  0.51883716,  0.19796969,\n",
       "        0.68380699,  0.41520116,  0.0599333 ,  0.80099438,  0.36659514,\n",
       "        0.48784424,  0.25138019,  0.49192682,  0.90906105,  1.02019214,\n",
       "        1.21309192,  0.66241377,  0.1509702 ,  0.82848778,  0.39898872,\n",
       "        0.46172719,  0.33762701,  0.64435394,  0.37946278,  0.4845534 ,\n",
       "        0.44180539,  0.20782685,  0.21815591,  0.2097427 ,  0.40198507,\n",
       "        0.40495926,  0.42566654,  0.72442529,  0.9282198 ,  0.36659514,\n",
       "        0.34524194,  0.5287646 ,  0.36659514,  0.75550778,  0.11131936,\n",
       "        0.19181241,  1.23935144,  0.66602703,  0.38986151,  0.60761172,\n",
       "        0.47370033,  0.41855943,  0.4673243 ,  0.41132955,  0.14139307,\n",
       "        1.22271402,  0.70291175,  0.98704628,  0.7145924 ,  0.65760595,\n",
       "        0.26017587,  0.78122624,  1.56759804,  0.7754341 ,  0.84192578,\n",
       "        1.51921669,  0.32741362,  0.8036717 ,  0.41269169,  0.86345836,\n",
       "        0.89258494,  0.40527627,  0.52975683,  0.63991778,  0.69928746,\n",
       "        0.71688283,  0.46832769,  0.70524011,  0.44975732,  0.56378668,\n",
       "        0.76264402,  1.00685503,  0.81643619,  0.2357124 ,  1.01577057,\n",
       "        0.84948567,  0.9624012 ,  0.54980146,  0.7408367 ,  0.56364127,\n",
       "        0.69834911,  0.94694661,  0.62133094,  0.49883767,  0.61175882,\n",
       "        0.47129366,  0.39977822,  0.48246601,  1.53259226,  0.36840775,\n",
       "        0.43737631,  0.33557341,  0.38897048,  1.64680107,  0.37217087,\n",
       "        0.79785215,  0.85535134,  0.32050256,  0.64482464,  0.39955597,\n",
       "        1.16074859,  1.05285856,  0.79785215,  0.65429849,  0.86047324,\n",
       "        0.72246291,  0.73774003,  0.23945204,  0.88631842,  1.20374539,\n",
       "        0.67398839,  0.49188684,  1.49319957,  1.55155963,  0.82729245,\n",
       "        0.27947542,  0.81571833,  1.32854416,  0.75519165,  0.27531585,\n",
       "        0.5295415 ,  0.63760798,  0.71355931,  0.54599131,  0.58213035,\n",
       "        0.73930241,  1.44529434,  0.56332697,  0.82907395,  1.11201081,\n",
       "        0.96457981,  0.73774003,  0.56332697,  0.61934895,  0.32289372,\n",
       "        0.39665763,  0.6647952 ,  0.85535134,  0.33574081,  0.52222782,\n",
       "        0.59648874,  0.90670707,  0.63217479,  0.83183692,  0.84095165])"
      ]
     },
     "execution_count": 53,
     "metadata": {},
     "output_type": "execute_result"
    }
   ],
   "source": [
    "dist"
   ]
  },
  {
   "cell_type": "markdown",
   "metadata": {},
   "source": [
    "means=iris.mean(0)"
   ]
  },
  {
   "cell_type": "code",
   "execution_count": 101,
   "metadata": {
    "collapsed": true
   },
   "outputs": [],
   "source": [
    "TSS = np.sum(np.sum((iris-means)**2))\n"
   ]
  },
  {
   "cell_type": "code",
   "execution_count": 97,
   "metadata": {
    "collapsed": true
   },
   "outputs": [],
   "source": [
    "SSW = np.sum(dist**2)\n"
   ]
  },
  {
   "cell_type": "code",
   "execution_count": 103,
   "metadata": {
    "collapsed": true
   },
   "outputs": [],
   "source": [
    "SSB=TSS-SSW"
   ]
  },
  {
   "cell_type": "code",
   "execution_count": 105,
   "metadata": {
    "scrolled": true
   },
   "outputs": [],
   "source": [
    "RSquare=(SSB/TSS)"
   ]
  },
  {
   "cell_type": "code",
   "execution_count": 109,
   "metadata": {},
   "outputs": [],
   "source": [
    "R2=[0,0,0,0,0,0,0,0,0,0]\n",
    "for i in range(0,10):\n",
    "    codebook=kmeans(iris,i+1)[0]\n",
    "    IVQ=vq(iris,codebook)\n",
    "    dist=IVQ[1]\n",
    "    means=iris.mean(0)\n",
    "    TSS = np.sum(np.sum((iris-means)**2))\n",
    "    SSW = np.sum(dist**2)\n",
    "    SSB=TSS-SSW\n",
    "    R2[i]=(SSB/TSS)"
   ]
  },
  {
   "cell_type": "code",
   "execution_count": 110,
   "metadata": {},
   "outputs": [
    {
     "data": {
      "text/plain": [
       "[-5.0095224725325395e-16,\n",
       " 0.77619969778207254,\n",
       " 0.8840448934762366,\n",
       " 0.91581107666780792,\n",
       " 0.93160992737814596,\n",
       " 0.9428064861606168,\n",
       " 0.94960132150667809,\n",
       " 0.95539643005258401,\n",
       " 0.95746420681527489,\n",
       " 0.9609919394555555]"
      ]
     },
     "execution_count": 110,
     "metadata": {},
     "output_type": "execute_result"
    }
   ],
   "source": [
    "R2"
   ]
  },
  {
   "cell_type": "code",
   "execution_count": 112,
   "metadata": {},
   "outputs": [
    {
     "data": {
      "image/png": "[encoded data removed]",
      "text/plain": [
       "<matplotlib.figure.Figure at 0x1de78292160>"
      ]
     },
     "metadata": {},
     "output_type": "display_data"
    }
   ],
   "source": [
    "plt.plot(ClusterNo,R2)\n",
    "plt.show()"
   ]
  }
 ],
 "metadata": {
  "kernelspec": {
   "display_name": "Python 3",
   "language": "python",
   "name": "python3"
  },
  "language_info": {
   "codemirror_mode": {
    "name": "ipython",
    "version": 3
   },
   "file_extension": ".py",
   "mimetype": "text/x-python",
   "name": "python",
   "nbconvert_exporter": "python",
   "pygments_lexer": "ipython3",
   "version": "3.6.1"
  }
 },
 "nbformat": 4,
 "nbformat_minor": 2
}
